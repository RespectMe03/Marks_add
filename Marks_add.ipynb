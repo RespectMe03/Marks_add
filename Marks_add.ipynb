{
  "nbformat": 4,
  "nbformat_minor": 0,
  "metadata": {
    "colab": {
      "provenance": [],
      "authorship_tag": "ABX9TyMnhX1L6Js9rPDhnmzPvH04",
      "include_colab_link": true
    },
    "kernelspec": {
      "name": "python3",
      "display_name": "Python 3"
    },
    "language_info": {
      "name": "python"
    }
  },
  "cells": [
    {
      "cell_type": "markdown",
      "metadata": {
        "id": "view-in-github",
        "colab_type": "text"
      },
      "source": [
        "<a href=\"https://colab.research.google.com/github/RespectMe03/Marks_add/blob/main/Marks_add.ipynb\" target=\"_parent\"><img src=\"https://colab.research.google.com/assets/colab-badge.svg\" alt=\"Open In Colab\"/></a>"
      ]
    },
    {
      "cell_type": "markdown",
      "source": [
        "Mini Project – Marks Adding\n"
      ],
      "metadata": {
        "id": "Ks9Pb_m5XJLv"
      }
    },
    {
      "cell_type": "code",
      "source": [
        "import pandas as pd\n",
        "import csv\n",
        "# file = pd.read_csv(\"/content/Mini Project - Marks Adding.csv\")\n",
        "file = open(\"Mini Project - Marks Adding.csv\",'r')\n",
        "total_marks = {}\n",
        "r = csv.reader(file)\n",
        "\n",
        "for row in r:\n",
        "  Roll_Num = row[0]\n",
        "  marks = row[1]\n",
        "  if Roll_Num in total_marks:\n",
        "     total_marks[Roll_Num] += marks\n",
        "  else:\n",
        "     total_marks[Roll_Num] = marks\n",
        "\n",
        "# for i in r:\n",
        "#   \n",
        "#   marks = int(r[1])\n",
        "#   if Roll_Num in total_marks:\n",
        "#     total_marks[Roll_Num] += marks\n",
        "#   else:\n",
        "#     total_marks[Roll_Num] = marks\n",
        "  \n",
        "fp = open(\"Result.csv\",'w',newline = '')\n",
        "writer = csv.writer(fp)\n",
        "writer.writerow(['Roll Number', ' Total Marks'])\n",
        "\n",
        "# for Roll_Num,marks in total_marks.items():\n",
        "#   writer.writerow([Roll_Num, marks])\n",
        "\n",
        "\n",
        "\n",
        "\n"
      ],
      "metadata": {
        "colab": {
          "base_uri": "https://localhost:8080/",
          "height": 235
        },
        "id": "YlVFrng1XLXX",
        "outputId": "c21821e6-3dd2-4d0b-a107-8539a98cd2e4"
      },
      "execution_count": 21,
      "outputs": [
        {
          "output_type": "error",
          "ename": "TypeError",
          "evalue": "ignored",
          "traceback": [
            "\u001b[0;31m---------------------------------------------------------------------------\u001b[0m",
            "\u001b[0;31mTypeError\u001b[0m                                 Traceback (most recent call last)",
            "\u001b[0;32m<ipython-input-21-b7613f1f9b55>\u001b[0m in \u001b[0;36m<cell line: 8>\u001b[0;34m()\u001b[0m\n\u001b[1;32m      8\u001b[0m \u001b[0;32mfor\u001b[0m \u001b[0mrow\u001b[0m \u001b[0;32min\u001b[0m \u001b[0mr\u001b[0m\u001b[0;34m:\u001b[0m\u001b[0;34m\u001b[0m\u001b[0;34m\u001b[0m\u001b[0m\n\u001b[1;32m      9\u001b[0m   \u001b[0mRoll_Num\u001b[0m \u001b[0;34m=\u001b[0m \u001b[0mrow\u001b[0m\u001b[0;34m[\u001b[0m\u001b[0;36m0\u001b[0m\u001b[0;34m]\u001b[0m\u001b[0;34m\u001b[0m\u001b[0;34m\u001b[0m\u001b[0m\n\u001b[0;32m---> 10\u001b[0;31m   \u001b[0mmarks\u001b[0m \u001b[0;34m=\u001b[0m \u001b[0mint\u001b[0m\u001b[0;34m(\u001b[0m\u001b[0mrow\u001b[0m\u001b[0;34m[\u001b[0m\u001b[0mr\u001b[0m\u001b[0;34m]\u001b[0m\u001b[0;34m)\u001b[0m\u001b[0;34m\u001b[0m\u001b[0;34m\u001b[0m\u001b[0m\n\u001b[0m\u001b[1;32m     11\u001b[0m   \u001b[0;32mif\u001b[0m \u001b[0mRoll_Num\u001b[0m \u001b[0;32min\u001b[0m \u001b[0mtotal_marks\u001b[0m\u001b[0;34m:\u001b[0m\u001b[0;34m\u001b[0m\u001b[0;34m\u001b[0m\u001b[0m\n\u001b[1;32m     12\u001b[0m      \u001b[0mtotal_marks\u001b[0m\u001b[0;34m[\u001b[0m\u001b[0mRoll_Num\u001b[0m\u001b[0;34m]\u001b[0m \u001b[0;34m+=\u001b[0m \u001b[0mmarks\u001b[0m\u001b[0;34m\u001b[0m\u001b[0;34m\u001b[0m\u001b[0m\n",
            "\u001b[0;31mTypeError\u001b[0m: list indices must be integers or slices, not _csv.reader"
          ]
        }
      ]
    }
  ]
}